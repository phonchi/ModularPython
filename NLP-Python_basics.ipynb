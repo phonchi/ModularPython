{
  "cells": [
    {
      "cell_type": "markdown",
      "id": "f87ef446",
      "metadata": {
        "id": "f87ef446"
      },
      "source": [
        "# NLP: Python basics"
      ]
    },
    {
      "cell_type": "markdown",
      "id": "Br2A2ogovC11",
      "metadata": {
        "id": "Br2A2ogovC11"
      },
      "source": [
        "<table align=\"left\">\n",
        "  <td>\n",
        "    <a href=\"https://colab.research.google.com/github/phonchi/ModularPython/blob/master/NLP-Python_basics.ipynb\" target=\"_parent\"><img src=\"https://colab.research.google.com/assets/colab-badge.svg\" alt=\"Open In Colab\"/></a>\n",
        "  </td>\n",
        "  <td style=\"text-align: center\">\n",
        "    <a href=\"https://github.com/phonchi/ModularPython/blob/master/NLP-Python_basics.ipynb\">\n",
        "      <img src=\"https://cloud.google.com/ml-engine/images/github-logo-32px.png\" alt=\"GitHub logo\"><br> View on GitHub\n",
        "    </a>\n",
        "  </td>\n",
        "</table>"
      ]
    },
    {
      "cell_type": "markdown",
      "id": "de0896ec",
      "metadata": {
        "id": "de0896ec"
      },
      "source": [
        "![Creative Commons License](https://i.creativecommons.org/l/by/4.0/88x31.png)  \n",
        "This work by Jephian Lin is licensed under a [Creative Commons Attribution 4.0 International License](http://creativecommons.org/licenses/by/4.0/)."
      ]
    },
    {
      "cell_type": "markdown",
      "id": "91dd8dd8",
      "metadata": {
        "id": "91dd8dd8"
      },
      "source": [
        "### First few things to know"
      ]
    },
    {
      "cell_type": "markdown",
      "id": "88e50605",
      "metadata": {
        "id": "88e50605"
      },
      "source": [
        "Python is a programming language, while Jupyter notebook or Google Colab are environment for you to develop and run your code.  In the **notebook environment** , there are two types of **cells** : **Markdown** (this one) and **code** (cell you can run your code).  To run a code cell, click on the cell, press `shift + enter` or `ctrl + enter`."
      ]
    },
    {
      "cell_type": "code",
      "execution_count": null,
      "id": "291093b8",
      "metadata": {
        "id": "291093b8"
      },
      "outputs": [],
      "source": [
        "print(\"Press shift + enter to run the cell and move on to the next cell.\")\n",
        "print(\"Press ctrl + enter to run the cell and stay at the current cell.\")"
      ]
    },
    {
      "cell_type": "code",
      "execution_count": null,
      "id": "ae25bb37",
      "metadata": {
        "id": "ae25bb37"
      },
      "outputs": [],
      "source": [
        "my_name_is_unusually_long = \"my-name\""
      ]
    },
    {
      "cell_type": "markdown",
      "id": "fd02e89a",
      "metadata": {
        "id": "fd02e89a"
      },
      "source": [
        "If you have a long object called `my_name_is_unusually_long` , it is hard to remember and type it accurately.  You may type `my_name` and then press `tab` to let the notebook environment **auto-complete** the name.  For Google Colab, instead of `tab` , you may wait or use `ctrl + space`."
      ]
    },
    {
      "cell_type": "code",
      "execution_count": null,
      "id": "a95a7e78",
      "metadata": {
        "id": "a95a7e78"
      },
      "outputs": [],
      "source": [
        "# put your cursor at the end of my_name and wait\n",
        "my_name"
      ]
    },
    {
      "cell_type": "markdown",
      "id": "65fc736c",
      "metadata": {
        "id": "65fc736c"
      },
      "source": [
        "When seeing a new function, you may use `?` or `help` to read its documentation."
      ]
    },
    {
      "cell_type": "code",
      "execution_count": null,
      "id": "a7b563a8",
      "metadata": {
        "id": "a7b563a8"
      },
      "outputs": [],
      "source": [
        "a = \"nsysu\"\n",
        "a.upper?"
      ]
    },
    {
      "cell_type": "code",
      "execution_count": null,
      "id": "SSTcw_Hw055Y",
      "metadata": {
        "id": "SSTcw_Hw055Y"
      },
      "outputs": [],
      "source": [
        "help(a.upper)"
      ]
    },
    {
      "cell_type": "markdown",
      "id": "4e0af8de",
      "metadata": {
        "id": "4e0af8de"
      },
      "source": [
        "Whenever you encouter any difficulty or error message, you are encourage to **ask** [ChatGPT](https://chatgpt.com/)/[Gemnin](https://gemini.google.com/)/[Copilot](https://copilot.microsoft.com/).  "
      ]
    },
    {
      "cell_type": "markdown",
      "id": "d1b6f138",
      "metadata": {
        "id": "d1b6f138"
      },
      "source": [
        "### Assign and print"
      ]
    },
    {
      "cell_type": "markdown",
      "id": "aa84f745",
      "metadata": {
        "id": "aa84f745"
      },
      "source": [
        "Use `=` to assign the value on the right-hand side to the variable on the left-hand side.  \n",
        "Then use `print` to print the variable."
      ]
    },
    {
      "cell_type": "code",
      "execution_count": null,
      "id": "dd98010e",
      "metadata": {
        "id": "dd98010e"
      },
      "outputs": [],
      "source": [
        "greeting = \"hello\"\n",
        "print(greeting)"
      ]
    },
    {
      "cell_type": "code",
      "execution_count": null,
      "id": "66e8dc19",
      "metadata": {
        "id": "66e8dc19"
      },
      "outputs": [],
      "source": [
        "greeting = greeting + \", how are you?\" # \"+\"\" means Concatenate for string!\n",
        "print(greeting)"
      ]
    },
    {
      "cell_type": "markdown",
      "id": "796f942e",
      "metadata": {
        "id": "796f942e"
      },
      "source": [
        "By default, the notebook environment print the representation of the variable in the last line."
      ]
    },
    {
      "cell_type": "code",
      "execution_count": null,
      "id": "357286b9",
      "metadata": {
        "id": "357286b9"
      },
      "outputs": [],
      "source": [
        "reply = \"fantastic, how about you?\"\n",
        "greeting\n",
        "reply"
      ]
    },
    {
      "cell_type": "markdown",
      "id": "52cd714e",
      "metadata": {
        "id": "52cd714e"
      },
      "source": [
        "### Data type"
      ]
    },
    {
      "cell_type": "markdown",
      "id": "4fba8e28",
      "metadata": {
        "id": "4fba8e28"
      },
      "source": [
        "Data type tells Python how to handle your object.  For example, you may ask Python to upper-case a string, but you cannot upper-case an integer."
      ]
    },
    {
      "cell_type": "code",
      "execution_count": null,
      "id": "5d730835",
      "metadata": {
        "id": "5d730835"
      },
      "outputs": [],
      "source": [
        "a = 235 # integer\n",
        "b = \"two three five\" # string\n",
        "c = True # boolean\n",
        "d = (2, 3, 5) # tuple\n",
        "e = [2, 3, 5] # list\n",
        "f = {\"two\": 2, \"three\": 3, \"five\": 5} # dictionary\n",
        "type(f)"
      ]
    },
    {
      "cell_type": "code",
      "execution_count": null,
      "id": "bb9cc5c4",
      "metadata": {
        "id": "bb9cc5c4"
      },
      "outputs": [],
      "source": [
        "a.upper()"
      ]
    },
    {
      "cell_type": "code",
      "execution_count": null,
      "id": "85f29af8",
      "metadata": {
        "id": "85f29af8"
      },
      "outputs": [],
      "source": [
        "b.upper()"
      ]
    },
    {
      "cell_type": "markdown",
      "id": "0e1b587a",
      "metadata": {
        "id": "0e1b587a"
      },
      "source": [
        "### String"
      ]
    },
    {
      "cell_type": "markdown",
      "id": "88933773",
      "metadata": {
        "id": "88933773"
      },
      "source": [
        "Python offers different ways to input a string."
      ]
    },
    {
      "cell_type": "code",
      "execution_count": null,
      "id": "e9ded216",
      "metadata": {
        "id": "e9ded216"
      },
      "outputs": [],
      "source": [
        "a = 'The book \"1984\" is awesome.\\nI enjoyed reading it.'\n",
        "b = \"The book '1984' is awesome.\\nI enjoyed reading it.\"\n",
        "print(a)\n",
        "print(b)"
      ]
    },
    {
      "cell_type": "markdown",
      "id": "9c2c9861",
      "metadata": {
        "id": "9c2c9861"
      },
      "source": [
        "To avoid a long line of input, you may use paranetheses to make your code looks better."
      ]
    },
    {
      "cell_type": "code",
      "execution_count": null,
      "id": "6a1d04a8",
      "metadata": {
        "id": "6a1d04a8"
      },
      "outputs": [],
      "source": [
        "c = (\"The book '1984' is awesome.\\n\"\n",
        "     \"I enjoyed reading it.\")\n",
        "print(c)"
      ]
    },
    {
      "cell_type": "markdown",
      "id": "3060c778",
      "metadata": {
        "id": "3060c778"
      },
      "source": [
        "The symbol `\\n` is an **escape character** that stands for \"new line\".  You may use `r\"...\"` or `r'...'` to keep the original form instead of converting the escape characters.  This is particularly useful when your string is the code of some programming language.  "
      ]
    },
    {
      "cell_type": "code",
      "execution_count": null,
      "id": "9baae238",
      "metadata": {
        "id": "9baae238"
      },
      "outputs": [],
      "source": [
        "d = r\"The book '1984' is awesome.\\nI enjoyed reading it.\"\n",
        "print(d)"
      ]
    },
    {
      "cell_type": "markdown",
      "id": "F2__OryZ-NGw",
      "metadata": {
        "id": "F2__OryZ-NGw"
      },
      "source": [
        "##### > Exercise: Please use AI to list some common escape charater in Python and give corresponding examples."
      ]
    },
    {
      "cell_type": "markdown",
      "id": "eb59076b",
      "metadata": {
        "id": "eb59076b"
      },
      "source": [
        "To record all the line breaks and tabs, use triple quotes."
      ]
    },
    {
      "cell_type": "code",
      "execution_count": null,
      "id": "e606422e",
      "metadata": {
        "id": "e606422e"
      },
      "outputs": [],
      "source": [
        "e = \"\"\"The book '1984' is   awesome.\n",
        "I enjoyed reading it.\"\"\"\n",
        "print(e)"
      ]
    },
    {
      "cell_type": "markdown",
      "id": "431c2e78",
      "metadata": {
        "id": "431c2e78"
      },
      "source": [
        "A few functions are powerful on strings.  \n",
        "\n",
        "- `split` : split the string into a list of words\n",
        "- `join` : merge several string together\n",
        "- `upper` , `lower` , `capitalize` : make letters upper-case, lower-case, or capitalize the sentence\n",
        "- `startswith` , `endswith` : check if the string starts or ends with some letters\n",
        "- `isascii` : check if the string is ASCII only"
      ]
    },
    {
      "cell_type": "code",
      "execution_count": null,
      "id": "1de9399e",
      "metadata": {
        "id": "1de9399e"
      },
      "outputs": [],
      "source": [
        "b = \"The book '1984' is awesome.\\nI enjoyed reading it.\"\n",
        "b.split()"
      ]
    },
    {
      "cell_type": "code",
      "execution_count": null,
      "id": "0da52c61",
      "metadata": {
        "id": "0da52c61"
      },
      "outputs": [],
      "source": [
        "b = \"The book '1984' is awesome.\\nI enjoyed reading it.\"\n",
        "words = b.split()\n",
        "'_'.join(words)"
      ]
    },
    {
      "cell_type": "code",
      "execution_count": null,
      "id": "e664630a",
      "metadata": {
        "id": "e664630a"
      },
      "outputs": [],
      "source": [
        "greeting = \"hello, How are you?\"\n",
        "print(greeting.upper())\n",
        "print(greeting.lower())\n",
        "print(greeting.capitalize())"
      ]
    },
    {
      "cell_type": "markdown",
      "id": "ac3ffb4d",
      "metadata": {
        "id": "ac3ffb4d"
      },
      "source": [
        "Use the `f-string` to embed some variables in your string."
      ]
    },
    {
      "cell_type": "code",
      "execution_count": null,
      "id": "281820e2",
      "metadata": {
        "id": "281820e2",
        "scrolled": true
      },
      "outputs": [],
      "source": [
        "book_name = \"1984\"\n",
        "description = \"awesome\"\n",
        "text = f\"The book '{book_name}' is {description}.\\n I enjoyed reading it.\"\n",
        "print(text)"
      ]
    },
    {
      "cell_type": "markdown",
      "id": "df81a24a",
      "metadata": {
        "id": "df81a24a"
      },
      "source": [
        "### `for` loop and `if` statment"
      ]
    },
    {
      "cell_type": "markdown",
      "id": "f21b68c3",
      "metadata": {
        "id": "f21b68c3"
      },
      "source": [
        "A `for` loop allows you to do [routine works](https://pythontutor.com/render.html#code=for%20noun%20in%20%5B'apple',%20'balls',%20'cats',%20'dollar',%20'engine',%20'formulae'%5D%3A%0A%20%20%20%20if%20noun.endswith%28's'%29%3A%0A%20%20%20%20%20%20%20%20print%28f%22%7Bnoun%7D%20is%20plural.%22%29%0A%20%20%20%20else%3A%0A%20%20%20%20%20%20%20%20print%28f%22%7Bnoun%7D%20is%20singular.%22%29&cumulative=false&curInstr=0&heapPrimitives=true&mode=display&origin=opt-frontend.js&py=311&rawInputLstJSON=%5B%5D&textReferences=false).  An `if` statement gives you the flexibility to do different things in different conditions.   "
      ]
    },
    {
      "cell_type": "code",
      "execution_count": null,
      "id": "68699737",
      "metadata": {
        "id": "68699737"
      },
      "outputs": [],
      "source": [
        "for noun in ['apple', 'balls', 'cats', 'dollar', 'engine', 'formulae']:\n",
        "    if noun.endswith('s'):\n",
        "        print(f\"{noun} is plural.\")\n",
        "    else:\n",
        "        print(f\"{noun} is singular.\")\n",
        "\n",
        "# Grammar is not a set of rules; it is something inherent in the language, and\n",
        "# language cannot exist without it. It can be discovered, but not invented.\n",
        "#                                                             --- Charlton Laird"
      ]
    },
    {
      "cell_type": "markdown",
      "id": "839b69e6",
      "metadata": {
        "id": "839b69e6"
      },
      "source": [
        "The `if` statement also provide an easy way to set values based on conditions."
      ]
    },
    {
      "cell_type": "code",
      "execution_count": null,
      "id": "0ac6e6d5",
      "metadata": {
        "id": "0ac6e6d5"
      },
      "outputs": [],
      "source": [
        "temperature = 20\n",
        "weather = \"hot\" if temperature > 26 else \"cool\"\n",
        "weather"
      ]
    },
    {
      "cell_type": "markdown",
      "id": "9b80557c",
      "metadata": {
        "id": "9b80557c"
      },
      "source": [
        "### 📘 NLP task: cleaning"
      ]
    },
    {
      "cell_type": "markdown",
      "id": "2a57a0f3",
      "metadata": {
        "id": "2a57a0f3"
      },
      "source": [
        "You may use `for` loops to clean up a paragraph."
      ]
    },
    {
      "cell_type": "code",
      "execution_count": null,
      "id": "53128471",
      "metadata": {
        "id": "53128471"
      },
      "outputs": [],
      "source": [
        "# generated by ChatGPT\n",
        "cat = (\"A cat is a small furry animal with sharp claws and a long tail. \"\n",
        "       \"They have soft fur that comes in different colors like black, white, or orange. \"\n",
        "       \"Cats are known for their agility and ability to climb trees. \"\n",
        "       \"They are independent creatures but can also be friendly and enjoy human companionship. \"\n",
        "       \"They communicate through meowing and purring. \"\n",
        "       \"Cats are often kept as pets and are loved for their playfulness and ability to catch mice.\")"
      ]
    },
    {
      "cell_type": "code",
      "execution_count": null,
      "id": "25b724a4",
      "metadata": {
        "id": "25b724a4"
      },
      "outputs": [],
      "source": [
        "cat = cat.lower()\n",
        "print(cat)"
      ]
    },
    {
      "cell_type": "markdown",
      "id": "fe0c8dc1",
      "metadata": {
        "id": "fe0c8dc1"
      },
      "source": [
        "Task: Remove the punctuations.  "
      ]
    },
    {
      "cell_type": "code",
      "execution_count": null,
      "id": "6953b7a5",
      "metadata": {
        "id": "6953b7a5"
      },
      "outputs": [],
      "source": [
        "punctuations = r\"\"\"!()-[]{};:'\"\\,<>./?@#$%^&*_~\"\"\"\n",
        "for p in punctuations:\n",
        "    cat = cat.replace(p, \"\")\n",
        "\n",
        "cat"
      ]
    },
    {
      "cell_type": "code",
      "source": [
        "# @title 💡 Supplementary Code: Regular Expression Example { run: \"auto\", vertical-output: true, form-width: \"50%\" }\n",
        "import string, re\n",
        "# Removing punctuation from the text using regular expression\n",
        "re.sub('[%s]' % re.escape(string.punctuation), '', cat)"
      ],
      "metadata": {
        "id": "Gv5Bt25cwxrE",
        "cellView": "form"
      },
      "id": "Gv5Bt25cwxrE",
      "execution_count": null,
      "outputs": []
    },
    {
      "cell_type": "markdown",
      "id": "d7ffc660",
      "metadata": {
        "id": "d7ffc660"
      },
      "source": [
        "Remove functional words."
      ]
    },
    {
      "cell_type": "code",
      "execution_count": null,
      "id": "7bd6582d",
      "metadata": {
        "id": "7bd6582d"
      },
      "outputs": [],
      "source": [
        "tokens = []\n",
        "for word in cat.split():\n",
        "    if word not in ['a', 'is', 'with', 'and']: # add more\n",
        "        tokens.append(word)\n",
        "\n",
        "tokens"
      ]
    },
    {
      "cell_type": "markdown",
      "id": "a0d3e940",
      "metadata": {
        "id": "a0d3e940"
      },
      "source": [
        "Count the frequency."
      ]
    },
    {
      "cell_type": "code",
      "execution_count": null,
      "id": "8d141001",
      "metadata": {
        "id": "8d141001"
      },
      "outputs": [],
      "source": [
        "count = 0\n",
        "for tok in tokens:\n",
        "    if tok == \"cat\" or tok == \"cats\":\n",
        "        count = count + 1\n",
        "\n",
        "print(\"p_cat =\", count / len(tokens))"
      ]
    },
    {
      "cell_type": "markdown",
      "id": "6b7b0fcd",
      "metadata": {
        "id": "6b7b0fcd"
      },
      "source": [
        "### 📘 NLP task: discover word relations"
      ]
    },
    {
      "cell_type": "markdown",
      "id": "ab5a9eb2",
      "metadata": {
        "id": "ab5a9eb2"
      },
      "source": [
        "[Pointwise Mutual Information (PMI)](https://en.wikipedia.org/wiki/Pointwise_mutual_information) is a statistical measure used to evaluate the association between two words or events, denoted as $x$ and $y$. The PMI formula is expressed as follows:\n",
        "\n",
        "$$\n",
        "\\operatorname{pmi}(x,y) = \\log_2\\frac{p(x,y)}{p(x)p(y)} = \\log_2\\frac{p(x\\mid y)}{p(x)} = \\log_2\\frac{p(y\\mid x)}{p(y)}\n",
        "$$\n",
        "\n",
        "**Intuition**: PMI calculates the ratio between the joint probability of $x$ and $y$ occurring together and the product of their individual probabilities. Essentially, it measures how much the actual co-occurrence of $x$ and $y$ deviates from what would be expected if they were independent. The logarithm base 2 transforms the ratio such that:\n",
        "- A ratio of 1 (indicating independence) is mapped to 0.\n",
        "- A ratio greater than 1 (indicating positive association) is mapped to a positive value.\n",
        "- A ratio less than 1 (indicating negative association) is mapped to a negative value.\n",
        "\n",
        "**Interpretation**:\n",
        "- **Zero PMI** indicates that the events $x$ and $y$ are **independent**. For example, the words \"city\" and \"full\" typically do not depend on each other.\n",
        "- **Positive PMI** suggests that the events are more likely to occur together than independently. For example, \"New\" and \"York\" often appear together and thus have a positive PMI.\n",
        "- **Negative PMI** implies that the occurrence of one event reduces the likelihood of the other occurring, suggesting a negative association. For example, \"quiet\" and \"bustling\" may have a negative PMI.\n",
        "\n",
        "Using PMI can be particularly useful in natural language processing and information retrieval to identify words that frequently co-occur in meaningful ways, thus revealing patterns in language use."
      ]
    },
    {
      "cell_type": "code",
      "execution_count": null,
      "id": "c041f5e9",
      "metadata": {
        "id": "c041f5e9"
      },
      "outputs": [],
      "source": [
        "# generated by ChatGPT\n",
        "new_york = (\"New York is a bustling city in the United States. \"\n",
        "        \"It is often called 'The Big Apple' and is full of excitement and opportunities. \"\n",
        "        \"With its towering skyscrapers and busy streets, New York is a hub of new ideas and innovation. \"\n",
        "        \"People from all over the world come to New York to chase their dreams and seek new adventures. \"\n",
        "        \"The city never sleeps, and there is always something happening, from concerts and Broadway shows to festivals and parades. \"\n",
        "        \"The streets are lined with shops, restaurants, and iconic landmarks like the Statue of Liberty and Times Square. \"\n",
        "        \"New York is a melting pot of cultures, where you can taste new foods, hear new languages, and experience a vibrant mix of traditions. \"\n",
        "        \"It's a city where old meets new, where history and modernity blend together, creating a unique and exciting atmosphere that captures the spirit of New York.\")"
      ]
    },
    {
      "cell_type": "code",
      "execution_count": null,
      "id": "1421ee75",
      "metadata": {
        "id": "1421ee75"
      },
      "outputs": [],
      "source": [
        "new_york = new_york.lower()\n",
        "\n",
        "punctuations = r\"\"\"!()-[]{};:'\"\\,<>./?@#$%^&*_~\"\"\"\n",
        "for p in punctuations:\n",
        "    new_york = new_york.replace(p, \"\")\n",
        "\n",
        "new_york"
      ]
    },
    {
      "cell_type": "code",
      "execution_count": null,
      "id": "f824ff19",
      "metadata": {
        "id": "f824ff19",
        "scrolled": false
      },
      "outputs": [],
      "source": [
        "tokens = []\n",
        "for word in new_york.split():\n",
        "    if word not in ['a', 'is', 'with', 'and']: # add more\n",
        "        tokens.append(word)\n",
        "\n",
        "tokens"
      ]
    },
    {
      "cell_type": "code",
      "execution_count": null,
      "id": "a6642101",
      "metadata": {
        "id": "a6642101"
      },
      "outputs": [],
      "source": [
        "from math import log2\n",
        "\n",
        "count_new = 0\n",
        "count_york = 0\n",
        "count_new_york = 0\n",
        "\n",
        "for i,tok in enumerate(tokens):\n",
        "    if tok == \"new\":\n",
        "        count_new += 1\n",
        "        try:\n",
        "            next_tok = tokens[i+1]\n",
        "            if next_tok == \"york\":\n",
        "                count_new_york += 1\n",
        "        except IndexError:\n",
        "            pass\n",
        "    if tok == \"york\":\n",
        "        count_york += 1\n",
        "\n",
        "p_new = count_new / len(tokens)\n",
        "p_work = count_york / len(tokens)\n",
        "p_new_york = count_new_york / len(tokens)\n",
        "pmi = log2(p_new_york / (p_new * p_work))\n",
        "print(\"p_new =\", p_new)\n",
        "print(\"p_york =\", p_work)\n",
        "print(\"p_new_york =\", p_new_york)\n",
        "print(\"pmi =\", pmi)"
      ]
    },
    {
      "cell_type": "markdown",
      "source": [
        "### 🔍 Supplementary: Stemming/ Lematization"
      ],
      "metadata": {
        "id": "l6ZoS2hrWnRI"
      },
      "id": "l6ZoS2hrWnRI"
    },
    {
      "cell_type": "markdown",
      "source": [
        "For grammatical reasons, documents are going to use different forms of a word, such as write, writing and writes. Additionally, there are families of derivationally related words with similar meanings. The goal of both stemming and lemmatization is to reduce inflectional forms and sometimes derivationally related forms of a word to a common base form.\n",
        "\n",
        "Stemming usually refers to a process that chops off the ends of words in the hope of achieving goal correctly most of the time and often includes the removal of derivational affixes.\n",
        "\n",
        "Lemmatization usually refers to doing things properly with the use of a vocabulary and morphological analysis of words, normally aiming to remove inflectional endings only and to return the base and dictionary form of a word.\n",
        "\n",
        "![image.png](data:image/png;base64,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)"
      ],
      "metadata": {
        "id": "mrkJqzF90JgH"
      },
      "id": "mrkJqzF90JgH"
    },
    {
      "cell_type": "code",
      "source": [
        "# @title 💡 Supplementary Code: Stemming Example { run: \"auto\", vertical-output: true, form-width: \"50%\" }\n",
        "from nltk.stem import PorterStemmer\n",
        "stemmer = PorterStemmer()\n",
        "\n",
        "def stemm_text(text):\n",
        "    # Ensure the text is split correctly into words and then joined back into a string after stemming\n",
        "    text = ' '.join(stemmer.stem(word) for word in text.split())\n",
        "    return text\n",
        "\n",
        "stemm_text(new_york)"
      ],
      "metadata": {
        "id": "Ss0dcbZvyggx"
      },
      "id": "Ss0dcbZvyggx",
      "execution_count": null,
      "outputs": []
    },
    {
      "cell_type": "markdown",
      "id": "cbf38fec",
      "metadata": {
        "id": "cbf38fec"
      },
      "source": [
        "### 📚 Further reading"
      ]
    },
    {
      "cell_type": "markdown",
      "id": "fca45830",
      "metadata": {
        "id": "fca45830"
      },
      "source": [
        "- [_A Whirlwind Tour of Python_](https://jakevdp.github.io/WhirlwindTourOfPython/) by Jake VanderPlas\n",
        "- GeeksforGeeks [Python Tutorial](https://www.geeksforgeeks.org/python-programming-language/)"
      ]
    }
  ],
  "metadata": {
    "colab": {
      "provenance": [],
      "toc_visible": true,
      "collapsed_sections": [
        "l6ZoS2hrWnRI"
      ]
    },
    "kernelspec": {
      "display_name": "Python 3 (ipykernel)",
      "language": "python",
      "name": "python3"
    },
    "language_info": {
      "codemirror_mode": {
        "name": "ipython",
        "version": 3
      },
      "file_extension": ".py",
      "mimetype": "text/x-python",
      "name": "python",
      "nbconvert_exporter": "python",
      "pygments_lexer": "ipython3",
      "version": "3.11.3"
    }
  },
  "nbformat": 4,
  "nbformat_minor": 5
}
