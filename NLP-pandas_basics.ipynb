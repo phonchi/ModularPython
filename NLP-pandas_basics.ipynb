{
  "cells": [
    {
      "cell_type": "markdown",
      "id": "cb6ce81c",
      "metadata": {
        "id": "cb6ce81c"
      },
      "source": [
        "# NLP: pandas basics"
      ]
    },
    {
      "cell_type": "markdown",
      "id": "3Q0mNoOfYuxS",
      "metadata": {
        "id": "3Q0mNoOfYuxS"
      },
      "source": [
        "<table align=\"left\">\n",
        "  <td>\n",
        "    <a href=\"https://colab.research.google.com/github/phonchi/ModularPython/blob/master/NLP-pandas_basics.ipynb\" target=\"_parent\"><img src=\"https://colab.research.google.com/assets/colab-badge.svg\" alt=\"Open In Colab\"/></a>\n",
        "  </td>\n",
        "  <td style=\"text-align: center\">\n",
        "    <a href=\"https://github.com/phonchi/ModularPython/blob/master/NLP-pandas_basics.ipynb\">\n",
        "      <img src=\"https://cloud.google.com/ml-engine/images/github-logo-32px.png\" alt=\"GitHub logo\"><br> View on GitHub\n",
        "    </a>\n",
        "  </td>\n",
        "</table>"
      ]
    },
    {
      "cell_type": "markdown",
      "id": "947a36a6",
      "metadata": {
        "id": "947a36a6"
      },
      "source": [
        "![Creative Commons License](https://i.creativecommons.org/l/by/4.0/88x31.png)  \n",
        "This work by Jephian Lin is licensed under a [Creative Commons Attribution 4.0 International License](http://creativecommons.org/licenses/by/4.0/)."
      ]
    },
    {
      "cell_type": "code",
      "execution_count": null,
      "id": "4352e573",
      "metadata": {
        "id": "4352e573"
      },
      "outputs": [],
      "source": [
        "import numpy as np\n",
        "import pandas as pd"
      ]
    },
    {
      "cell_type": "markdown",
      "id": "b1842d36",
      "metadata": {
        "id": "b1842d36"
      },
      "source": [
        "### Better display format"
      ]
    },
    {
      "cell_type": "code",
      "execution_count": null,
      "id": "62e5149e",
      "metadata": {
        "id": "62e5149e"
      },
      "outputs": [],
      "source": [
        "import nltk\n",
        "nltk.download('inaugural')\n",
        "\n",
        "from nltk.corpus import inaugural"
      ]
    },
    {
      "cell_type": "code",
      "execution_count": null,
      "id": "yzmFPpWDZ2YY",
      "metadata": {
        "id": "yzmFPpWDZ2YY"
      },
      "outputs": [],
      "source": [
        "# List all files in the inaugural corpus\n",
        "files = inaugural.fileids()\n",
        "print(\"Available files in the inaugural corpus:\", files)\n",
        "len(files)"
      ]
    },
    {
      "cell_type": "code",
      "execution_count": null,
      "id": "OUK2QAhbaeqJ",
      "metadata": {
        "id": "OUK2QAhbaeqJ"
      },
      "outputs": [],
      "source": [
        "# Select a specific document, for example, the last document\n",
        "last_doc = files[-1]\n",
        "print(\"Last document:\", last_doc)"
      ]
    },
    {
      "cell_type": "code",
      "execution_count": null,
      "id": "A6Ezi2mbagvo",
      "metadata": {
        "id": "A6Ezi2mbagvo"
      },
      "outputs": [],
      "source": [
        "# Load and print the raw content of the last document\n",
        "text = inaugural.raw(last_doc)\n",
        "print(f\"Content of {last_doc}:\\n\", text[:500])  # Print the first 500 characters to check the content"
      ]
    },
    {
      "cell_type": "code",
      "execution_count": null,
      "id": "24f6d6a6",
      "metadata": {
        "id": "24f6d6a6"
      },
      "outputs": [],
      "source": [
        "texts = [inaugural.raw(file) for file in files] # Collect all text"
      ]
    },
    {
      "cell_type": "code",
      "execution_count": null,
      "id": "222fca7f",
      "metadata": {
        "id": "222fca7f"
      },
      "outputs": [],
      "source": [
        "# ignore the last 4 characters \".txt\"\n",
        "years = [file[:-4].split(\"-\")[0] for file in files]\n",
        "presidents = [file[:-4].split(\"-\")[1] for file in files]\n",
        "print(years[-10:]) # print last few files\n",
        "print(presidents[-10:]) # print last few files"
      ]
    },
    {
      "cell_type": "code",
      "execution_count": null,
      "id": "792af7df",
      "metadata": {
        "id": "792af7df"
      },
      "outputs": [],
      "source": [
        "df = pd.DataFrame({\n",
        "    \"year\": years,\n",
        "    \"president\": presidents,\n",
        "    \"file\": files,\n",
        "    \"text\": texts\n",
        "})\n",
        "df.set_index(\"year\", inplace=True)\n",
        "df.tail(10) # print last few files"
      ]
    },
    {
      "cell_type": "code",
      "execution_count": null,
      "id": "cbNAgmj9INpX",
      "metadata": {
        "id": "cbNAgmj9INpX"
      },
      "outputs": [],
      "source": [
        "df"
      ]
    },
    {
      "cell_type": "code",
      "execution_count": null,
      "id": "1dd7a8ac",
      "metadata": {
        "id": "1dd7a8ac"
      },
      "outputs": [],
      "source": [
        "df[\"length\"] = df[\"text\"].str.split().str.len()\n",
        "df.tail() # print last few files"
      ]
    },
    {
      "cell_type": "code",
      "execution_count": null,
      "id": "f0a6f8ff",
      "metadata": {
        "id": "f0a6f8ff"
      },
      "outputs": [],
      "source": [
        "df[\"length\"].plot(hover_data={'president': df.president}, backend='plotly')"
      ]
    },
    {
      "cell_type": "code",
      "execution_count": null,
      "id": "05e64f19",
      "metadata": {
        "id": "05e64f19"
      },
      "outputs": [],
      "source": [
        "i = df[\"length\"].argmax()\n",
        "print(df.iloc[i])"
      ]
    },
    {
      "cell_type": "markdown",
      "id": "a51e0175",
      "metadata": {},
      "source": [
        "Checkout https://github.com/Sinaptik-AI/pandas-ai for more interactive quries about df."
      ]
    },
    {
      "cell_type": "markdown",
      "id": "8c6a0024",
      "metadata": {
        "id": "8c6a0024"
      },
      "source": [
        "### DataFrame"
      ]
    },
    {
      "cell_type": "markdown",
      "id": "8a9cac6c",
      "metadata": {
        "id": "8a9cac6c"
      },
      "source": [
        "The pandas package can be viewed as a powerful Excel.  It loses the graphic user interface, but its much more flexible and efficient --- which is a fair compromise.  In pandas, it uses `Series` for list data and `DataFrame` for table data.  "
      ]
    },
    {
      "cell_type": "markdown",
      "id": "4647e892",
      "metadata": {
        "id": "4647e892"
      },
      "source": [
        "A `Series` is a list with index."
      ]
    },
    {
      "cell_type": "code",
      "execution_count": null,
      "id": "bfe21f10",
      "metadata": {
        "id": "bfe21f10"
      },
      "outputs": [],
      "source": [
        "years = list(range(1911, 2030))\n",
        "y2z = [\"rat\", \"ox\", \"tiger\", \"rabbit\", \"dragon\", \"snake\", \"horse\", \"goat\", \"monkey\", \"rooster\", \"dog\", \"pig\"]\n",
        "zodiac = [y2z[(y - 1912) % 12] for y in years]\n",
        "Z = pd.Series(zodiac, index=years)\n",
        "Z"
      ]
    },
    {
      "cell_type": "markdown",
      "id": "1982432b",
      "metadata": {
        "id": "1982432b"
      },
      "source": [
        "A `DataFrame` is\n",
        "\n",
        "- a dictionary of `Series` (columns), or\n",
        "- a list of lists (rows).\n",
        "\n",
        "Recall the example.  \n",
        "\n",
        "| student \\ subject | Chinese | English | Math | N. Science | S. Science | decision | comments |\n",
        "|----|----|----|----|----|----|----|----|\n",
        "| 1 | 10 | 10 | 10 | 10 | 10 | accept | good |\n",
        "| 2 | 10 | 10 | 10 | 10 | 0 | accept | so so |\n",
        "| 3 | 0 | 0 | 15 | 0 | 0 | decline | need improvement |"
      ]
    },
    {
      "cell_type": "code",
      "execution_count": null,
      "id": "bda9f22a",
      "metadata": {
        "id": "bda9f22a"
      },
      "outputs": [],
      "source": [
        "cht = [10, 10, 0]\n",
        "eng = [10, 10, 15]\n",
        "math = [10, 10, 15]\n",
        "nsci = [10, 10, 0]\n",
        "ssci = [10, 0, 0]\n",
        "df = pd.DataFrame({\n",
        "    \"Chinese\": cht,\n",
        "    \"English\": eng,\n",
        "    \"Math\": math,\n",
        "    \"N. Science\": nsci,\n",
        "    \"S. Science\": ssci\n",
        "})\n",
        "df"
      ]
    },
    {
      "cell_type": "code",
      "execution_count": null,
      "id": "3771978a",
      "metadata": {
        "id": "3771978a"
      },
      "outputs": [],
      "source": [
        "arr = [[10, 10, 10, 10, 10],\n",
        "    [10, 10, 10, 10, 0],\n",
        "    [0, 0, 15, 0, 0]]\n",
        "df = pd.DataFrame(arr)\n",
        "df.columns =  [\"Chinese\", \"English\", \"Math\", \"N. Science\", \"S. Science\"]\n",
        "df"
      ]
    },
    {
      "cell_type": "markdown",
      "id": "e1a0a24d",
      "metadata": {
        "id": "e1a0a24d"
      },
      "source": [
        "### Index and columns"
      ]
    },
    {
      "cell_type": "markdown",
      "id": "eea4b626",
      "metadata": {
        "id": "eea4b626"
      },
      "source": [
        "The names of the rows are stored in `df.index` , while the names of the columns are stored in `df.columns' ."
      ]
    },
    {
      "cell_type": "code",
      "execution_count": null,
      "id": "d3cbbe4b",
      "metadata": {
        "id": "d3cbbe4b"
      },
      "outputs": [],
      "source": [
        "arr = [[10, 10, 10, 10, 10],\n",
        "    [10, 10, 10, 10, 0],\n",
        "    [0, 0, 15, 0, 0]]\n",
        "df = pd.DataFrame(arr)\n",
        "df.index = [\"Amy\", \"Bill\", \"Charles\"]\n",
        "df.columns =  [\"Chinese\", \"English\", \"Math\", \"N. Science\", \"S. Science\"]\n",
        "df"
      ]
    },
    {
      "cell_type": "markdown",
      "id": "59c0a3a0",
      "metadata": {
        "id": "59c0a3a0"
      },
      "source": [
        "Adding a new column is easy."
      ]
    },
    {
      "cell_type": "code",
      "execution_count": null,
      "id": "f0b4e07d",
      "metadata": {
        "id": "f0b4e07d"
      },
      "outputs": [],
      "source": [
        "df[\"decision\"] = [\"accept\", \"accept\", \"decline\"]\n",
        "df[\"comments\"] = [\"good\", \"so so\", \"need improvement\"]\n",
        "df"
      ]
    },
    {
      "cell_type": "markdown",
      "id": "19433ccb",
      "metadata": {
        "id": "19433ccb"
      },
      "source": [
        "### Selection and slicing"
      ]
    },
    {
      "cell_type": "code",
      "execution_count": null,
      "id": "d616b9b1",
      "metadata": {
        "id": "d616b9b1"
      },
      "outputs": [],
      "source": [
        "arr = [[10, 10, 10, 10, 10],\n",
        "    [10, 10, 10, 10, 0],\n",
        "    [0, 0, 15, 0, 0]]\n",
        "df = pd.DataFrame(arr)\n",
        "df.index = [\"Amy\", \"Bill\", \"Charles\"]\n",
        "df.columns =  [\"Chinese\", \"English\", \"Math\", \"N. Science\", \"S. Science\"]\n",
        "df[\"decision\"] = [\"accept\", \"accept\", \"decline\"]\n",
        "df[\"comments\"] = [\"good\", \"so so\", \"need improvement\"]\n",
        "df"
      ]
    },
    {
      "cell_type": "markdown",
      "id": "34582889",
      "metadata": {
        "id": "34582889"
      },
      "source": [
        "Each row or column has a numerical index and a name.  For the numerical index, use `df.iloc` to select the entry, while for the name, use `df.loc` instead."
      ]
    },
    {
      "cell_type": "code",
      "execution_count": null,
      "id": "cc15a8b1",
      "metadata": {
        "id": "cc15a8b1"
      },
      "outputs": [],
      "source": [
        "df.loc['Bill']"
      ]
    },
    {
      "cell_type": "code",
      "execution_count": null,
      "id": "4da66090",
      "metadata": {
        "id": "4da66090"
      },
      "outputs": [],
      "source": [
        "df.iloc[1]"
      ]
    },
    {
      "cell_type": "markdown",
      "id": "501d75bd",
      "metadata": {
        "id": "501d75bd"
      },
      "source": [
        "The idea of slicing in NumPy also works in pandas.  In addition, it allows you to slice by names."
      ]
    },
    {
      "cell_type": "code",
      "execution_count": null,
      "id": "9f28e503",
      "metadata": {
        "id": "9f28e503"
      },
      "outputs": [],
      "source": [
        "df.loc[:, \"Chinese\":\"S. Science\"]"
      ]
    },
    {
      "cell_type": "markdown",
      "id": "79210e15",
      "metadata": {
        "id": "79210e15"
      },
      "source": [
        "Instead of `df.iloc[:,i]` , getting a column is easy."
      ]
    },
    {
      "cell_type": "code",
      "execution_count": null,
      "id": "7e15dd9e",
      "metadata": {
        "id": "7e15dd9e"
      },
      "outputs": [],
      "source": [
        "df[\"decision\"]"
      ]
    },
    {
      "cell_type": "code",
      "execution_count": null,
      "id": "51b9a657",
      "metadata": {
        "id": "51b9a657"
      },
      "outputs": [],
      "source": [
        "df.decision"
      ]
    },
    {
      "cell_type": "markdown",
      "id": "e2288dc8",
      "metadata": {
        "id": "e2288dc8"
      },
      "source": [
        "### Groupby and apply"
      ]
    },
    {
      "cell_type": "code",
      "execution_count": null,
      "id": "1f061158",
      "metadata": {
        "id": "1f061158"
      },
      "outputs": [],
      "source": [
        "arr = [[10, 10, 10, 10, 10],\n",
        "    [10, 10, 10, 10, 0],\n",
        "    [0, 0, 15, 0, 0]]\n",
        "df = pd.DataFrame(arr)\n",
        "df.index = [\"Amy\", \"Bill\", \"Charles\"]\n",
        "df.columns =  [\"Chinese\", \"English\", \"Math\", \"N. Science\", \"S. Science\"]\n",
        "df[\"decision\"] = [\"accept\", \"accept\", \"decline\"]\n",
        "df[\"comments\"] = [\"good\", \"so so\", \"need improvement\"]\n",
        "df"
      ]
    },
    {
      "cell_type": "markdown",
      "id": "fa73d1a5",
      "metadata": {
        "id": "fa73d1a5"
      },
      "source": [
        "There are several ways to manipulate the data to extract new features.  "
      ]
    },
    {
      "cell_type": "code",
      "execution_count": null,
      "id": "fdcff1c4",
      "metadata": {
        "id": "fdcff1c4"
      },
      "outputs": [],
      "source": [
        "df[\"total\"] = df.loc[:,\"Chinese\":\"S. Science\"].sum(axis=1)\n",
        "df"
      ]
    },
    {
      "cell_type": "code",
      "execution_count": null,
      "id": "75e073a6",
      "metadata": {
        "id": "75e073a6"
      },
      "outputs": [],
      "source": [
        "df[\"w. total\"] = df[\"Chinese\"] + 2*df[\"English\"] + 2*df[\"Math\"] + 2*df[\"N. Science\"]\n",
        "df"
      ]
    },
    {
      "cell_type": "markdown",
      "id": "49eac2d3",
      "metadata": {
        "id": "49eac2d3"
      },
      "source": [
        "If there are no appropriate built-in function for your purpose or the function is too complicated, you may use `apply` to apply a function to the data."
      ]
    },
    {
      "cell_type": "code",
      "execution_count": null,
      "id": "85daf3dc",
      "metadata": {
        "id": "85daf3dc"
      },
      "outputs": [],
      "source": [
        "df[\"pre-decision\"] = df[\"w. total\"].apply(lambda k: \"accept\" if k >= 60 else \"decline\")\n",
        "df"
      ]
    },
    {
      "cell_type": "markdown",
      "id": "4e969cff",
      "metadata": {
        "id": "4e969cff"
      },
      "source": [
        "Lastly, you may group the data by the values of some column and get collective information.  \n",
        "\n",
        "    groupby = split + apply + combine"
      ]
    },
    {
      "cell_type": "code",
      "execution_count": null,
      "id": "0dd63d5a",
      "metadata": {
        "id": "0dd63d5a"
      },
      "outputs": [],
      "source": [
        "df.loc[:,\"Chinese\":\"decision\"].groupby(\"decision\").mean()"
      ]
    },
    {
      "cell_type": "markdown",
      "id": "5cbf7f8d",
      "metadata": {
        "id": "5cbf7f8d"
      },
      "source": [
        "### 📘 NLP task: find themes in each centrury"
      ]
    },
    {
      "cell_type": "markdown",
      "id": "10565e73",
      "metadata": {
        "id": "10565e73"
      },
      "source": [
        "Let's try to find the most frequent words in the inaugural addresses in each period of times."
      ]
    },
    {
      "cell_type": "code",
      "execution_count": null,
      "id": "fa0c381e",
      "metadata": {
        "id": "fa0c381e"
      },
      "outputs": [],
      "source": [
        "import nltk\n",
        "nltk.download('inaugural')\n",
        "\n",
        "from nltk.corpus import inaugural\n",
        "\n",
        "files = inaugural.fileids()\n",
        "texts = [inaugural.raw(file) for file in files]\n",
        "years = [file[:-4].split(\"-\")[0] for file in files]\n",
        "presidents = [file[:-4].split(\"-\")[1] for file in files]\n",
        "df = pd.DataFrame({\n",
        "    \"year\": years,\n",
        "    \"president\": presidents,\n",
        "    \"file\": files,\n",
        "    \"text\": texts\n",
        "})\n",
        "df.set_index(\"year\", inplace=True)\n",
        "df.tail() # print last few files"
      ]
    },
    {
      "cell_type": "code",
      "execution_count": null,
      "id": "2c5d4408",
      "metadata": {
        "id": "2c5d4408"
      },
      "outputs": [],
      "source": [
        "from sklearn.feature_extraction.text import CountVectorizer\n",
        "# Vectorize the text data and convert to DataFrame\n",
        "cvec = CountVectorizer(stop_words='english')\n",
        "X = cvec.fit_transform(df.text)\n",
        "X_df = pd.DataFrame(X.toarray(), columns=cvec.get_feature_names_out(), index=df.index)\n",
        "X_df"
      ]
    },
    {
      "cell_type": "code",
      "execution_count": null,
      "id": "f80c7ba3",
      "metadata": {
        "id": "f80c7ba3"
      },
      "outputs": [],
      "source": [
        "# Find the top 5 keywords for each document\n",
        "df['keywords'] = X_df.apply(lambda row: row.nlargest(5).index.tolist(), axis=1)\n",
        "df.tail() # print last few files"
      ]
    },
    {
      "cell_type": "code",
      "execution_count": null,
      "id": "9a649e1a",
      "metadata": {
        "id": "9a649e1a"
      },
      "outputs": [],
      "source": [
        "# Group years by decade\n",
        "df[\"decade\"] = df.index.astype(int) // 10 * 10\n",
        "df.tail() # print last few files"
      ]
    },
    {
      "cell_type": "code",
      "execution_count": null,
      "id": "e5e7fa33",
      "metadata": {
        "id": "e5e7fa33"
      },
      "outputs": [],
      "source": [
        "df.loc[:, \"keywords\":\"decade\"].groupby(\"decade\").sum()"
      ]
    },
    {
      "cell_type": "markdown",
      "id": "Qiguvxc66bOb",
      "metadata": {
        "id": "Qiguvxc66bOb"
      },
      "source": [
        "### 🔍 Supplementary: Word Cloud"
      ]
    },
    {
      "cell_type": "code",
      "execution_count": null,
      "id": "S49F9ua65XdU",
      "metadata": {
        "id": "S49F9ua65XdU"
      },
      "outputs": [],
      "source": [
        "import string, re\n",
        "def clean_text(text):\n",
        "    text = str(text).lower()\n",
        "    text = re.sub('[%s]' % re.escape(string.punctuation), '', text)\n",
        "    text = re.sub('\\n', '', text)\n",
        "    return text\n",
        "\n",
        "df['text'] = df['text'].apply(clean_text)"
      ]
    },
    {
      "cell_type": "code",
      "execution_count": null,
      "id": "jh_Jdoi85tXz",
      "metadata": {
        "id": "jh_Jdoi85tXz"
      },
      "outputs": [],
      "source": [
        "df"
      ]
    },
    {
      "cell_type": "code",
      "execution_count": null,
      "id": "LvrHODhX51b0",
      "metadata": {
        "id": "LvrHODhX51b0"
      },
      "outputs": [],
      "source": [
        "import matplotlib.pyplot as plt\n",
        "from wordcloud import WordCloud\n",
        "\n",
        "wc = WordCloud(\n",
        "    background_color='white',\n",
        "    max_words=200\n",
        ")\n",
        "wc.generate(' '.join(text for text in df['text']))\n",
        "plt.figure(figsize=(9,5))\n",
        "plt.title('Top words messages',\n",
        "          fontdict={'size': 22,  'verticalalignment': 'bottom'})\n",
        "plt.imshow(wc)\n",
        "plt.axis(\"off\")\n",
        "plt.show()"
      ]
    },
    {
      "cell_type": "markdown",
      "id": "1720ca27",
      "metadata": {
        "id": "1720ca27"
      },
      "source": [
        "### 📚 Further reading"
      ]
    },
    {
      "cell_type": "markdown",
      "id": "8877b517",
      "metadata": {
        "id": "8877b517"
      },
      "source": [
        "- [_Python Data Science Handbook_](https://jakevdp.github.io/PythonDataScienceHandbook/) by Jake VanderPlas\n",
        "- https://pandas.pydata.org/Pandas_Cheat_Sheet.pdf"
      ]
    }
  ],
  "metadata": {
    "colab": {
      "provenance": [],
      "toc_visible": true
    },
    "kernelspec": {
      "display_name": "Python 3",
      "name": "python3"
    },
    "language_info": {
      "codemirror_mode": {
        "name": "ipython",
        "version": 3
      },
      "file_extension": ".py",
      "mimetype": "text/x-python",
      "name": "python",
      "nbconvert_exporter": "python",
      "pygments_lexer": "ipython3",
      "version": "3.11.3"
    }
  },
  "nbformat": 4,
  "nbformat_minor": 5
}
